{
  "nbformat": 4,
  "nbformat_minor": 0,
  "metadata": {
    "colab": {
      "provenance": [],
      "authorship_tag": "ABX9TyPHAtAT/suuB4swF2PbjTpv",
      "include_colab_link": true
    },
    "kernelspec": {
      "name": "python3",
      "display_name": "Python 3"
    },
    "language_info": {
      "name": "python"
    }
  },
  "cells": [
    {
      "cell_type": "markdown",
      "metadata": {
        "id": "view-in-github",
        "colab_type": "text"
      },
      "source": [
        "<a href=\"https://colab.research.google.com/github/VovaPopov/NSU-ML-and-DL/blob/main/numpy_and_pandas.ipynb\" target=\"_parent\"><img src=\"https://colab.research.google.com/assets/colab-badge.svg\" alt=\"Open In Colab\"/></a>"
      ]
    },
    {
      "cell_type": "code",
      "execution_count": null,
      "metadata": {
        "id": "IdPHPtjTkETx"
      },
      "outputs": [],
      "source": [
        "a = [1, 3, 5]\n",
        "b = [2, 4, 6]\n",
        "print(a, b)\n",
        "c = a + b\n",
        "print(c)\n",
        "\n",
        "import numpy as np\n",
        "a = np.array(a)\n",
        "b = np.array(b)\n",
        "\n",
        "print(np.median(a))\n",
        "e = np.array([[1, 3], [2, 4], [5, 7]])\n",
        "for n in e:\n",
        "  print(n)\n",
        "print(e[2,1])\n",
        "c = np.array([1,2,3,4,5,6,7,8,9])\n",
        "np.random.shuffle(c)\n",
        "print(c)\n",
        "\n",
        "f = np.random.seed(18182)\n",
        "print(f)"
      ]
    },
    {
      "cell_type": "code",
      "source": [
        "import random\n",
        "a = [1, 5, 7, 9]\n",
        "\n",
        "for i in range(100):\n",
        "  r = random.choice(a)\n",
        "  print(r, end='')"
      ],
      "metadata": {
        "id": "8pRk2k3kkVjL"
      },
      "execution_count": null,
      "outputs": []
    },
    {
      "cell_type": "code",
      "source": [
        "\n",
        "vec_a = [1,3,5]\n",
        "vec_b = [2,4,6]\n",
        "output = 0\n",
        "def elementwise_multiplication(vec_a, vec_b):\n",
        "    output = vec_a[0] * vec_b[0]\n",
        "    print(output)\n",
        "\n",
        "w = 0.1\n",
        "def n_t(input, w):\n",
        "    pr = input * w\n",
        "    return pr\n",
        "\n",
        "number = [8.5, 9.5,10,9]\n",
        "input = number[-1]\n",
        "pred = n_t(input, w)\n",
        "print(pred)"
      ],
      "metadata": {
        "id": "JwahEq6nv9GH"
      },
      "execution_count": null,
      "outputs": []
    }
  ]
}