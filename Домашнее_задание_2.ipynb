{
  "nbformat": 4,
  "nbformat_minor": 0,
  "metadata": {
    "colab": {
      "provenance": [],
      "authorship_tag": "ABX9TyPsGvUNrjT4f8ssFIuwPoDN",
      "include_colab_link": true
    },
    "kernelspec": {
      "name": "python3",
      "display_name": "Python 3"
    },
    "language_info": {
      "name": "python"
    }
  },
  "cells": [
    {
      "cell_type": "markdown",
      "metadata": {
        "id": "view-in-github",
        "colab_type": "text"
      },
      "source": [
        "<a href=\"https://colab.research.google.com/github/VovaPopov/NSU-ML-and-DL/blob/main/%D0%94%D0%BE%D0%BC%D0%B0%D1%88%D0%BD%D0%B5%D0%B5_%D0%B7%D0%B0%D0%B4%D0%B0%D0%BD%D0%B8%D0%B5_2.ipynb\" target=\"_parent\"><img src=\"https://colab.research.google.com/assets/colab-badge.svg\" alt=\"Open In Colab\"/></a>"
      ]
    },
    {
      "cell_type": "markdown",
      "source": [
        "Задание 1:\n",
        "Сортировка в обратном порядке"
      ],
      "metadata": {
        "id": "z7WQBHDtC31n"
      }
    },
    {
      "cell_type": "code",
      "source": [
        "ls = list()\n",
        "n = int(input())\n",
        "\n",
        "for i in range(n):\n",
        "  a = input()\n",
        "  ls.append(a)\n",
        "\n",
        "ls.sort(reverse=True)\n",
        "print(ls)"
      ],
      "metadata": {
        "id": "BbcqTdOQC0Rw"
      },
      "execution_count": null,
      "outputs": []
    },
    {
      "cell_type": "markdown",
      "source": [
        "Задание 2:\n",
        "Фильтр"
      ],
      "metadata": {
        "id": "4BtRbEpzItL1"
      }
    },
    {
      "cell_type": "code",
      "source": [
        "ls = list()\n",
        "n = int(input())\n",
        "\n",
        "for i in range(n):\n",
        "  a = input()\n",
        "  if \"%%\" in a[0:2]:\n",
        "    ls.append(a[2:])\n",
        "  elif \"####\" in a[:4]:\n",
        "    ls.append(a[4:])\n",
        "  else:\n",
        "    ls.append(a)\n",
        "\n",
        "print(ls)"
      ],
      "metadata": {
        "id": "ORWHyAvnIvzM"
      },
      "execution_count": null,
      "outputs": []
    },
    {
      "cell_type": "markdown",
      "source": [
        "Задание 3:\n",
        "От и до"
      ],
      "metadata": {
        "id": "q358_XlAb878"
      }
    },
    {
      "cell_type": "code",
      "source": [
        "ls = list()\n",
        "n = int(input(\"n\"))\n",
        "\n",
        "for i in range(n):\n",
        "  a = int(input())\n",
        "  ls.append(a)\n",
        "\n",
        "p = int(input(\"p\"))\n",
        "q = int(input(\"q\"))\n",
        "summa = 0\n",
        "\n",
        "for i in range(p-1, q):\n",
        "  summa += ls[i]\n",
        "print(summa)"
      ],
      "metadata": {
        "id": "194U6qdLb__U"
      },
      "execution_count": null,
      "outputs": []
    },
    {
      "cell_type": "markdown",
      "source": [
        "Задание 4: Артек"
      ],
      "metadata": {
        "id": "UYTYWbQvpOrf"
      }
    },
    {
      "cell_type": "code",
      "source": [
        "def Artek(s, n):\n",
        "  ls = []\n",
        "  s = input('s')\n",
        "  n = int(input('n'))\n",
        "\n",
        "  sr = s.replace(',', '')\n",
        "  w = sr.split()\n",
        "  for i in range(len(w)):\n",
        "    if w[i] == \"5\":\n",
        "      ls.append(w[i-1])\n",
        "\n",
        "  ls.sort()\n",
        "  print(*ls[:n], sep=', ')\n"
      ],
      "metadata": {
        "id": "W706D5szpR5_"
      },
      "execution_count": null,
      "outputs": []
    },
    {
      "cell_type": "markdown",
      "source": [
        "Задание 5: Пароль"
      ],
      "metadata": {
        "id": "QVv1h6EvX-7O"
      }
    },
    {
      "cell_type": "code",
      "source": [
        "def password_level():\n",
        "  abc = 'abcdefghijklmnopqrstuvwxyz'\n",
        "  num = '0123456789'\n",
        "  sim = '@#$%&*().,-_+'\n",
        "  n1, n2, n3, n4 = 0, 0, 0, 0\n",
        "\n",
        "  while True:\n",
        "    p1 = input('Пароль')\n",
        "    if len(p1) < 8:\n",
        "      print('Недопустимый пароль')\n",
        "      continue\n",
        "    else:\n",
        "      break\n",
        "\n",
        "  for i in range(len(p1)):\n",
        "    if p1[i] in abc:\n",
        "      n1 = 1\n",
        "    elif p1[i] in abc.upper():\n",
        "      n2 = 1\n",
        "    elif p1[i] in num:\n",
        "      n3 = 1\n",
        "    elif p1[i] in sim:\n",
        "      n4 = 1\n",
        "\n",
        "  n = n1+n2+n3+n4\n",
        "  if n == 4:\n",
        "    print('Надежный пароль')\n",
        "  elif n == 3:\n",
        "    print('Слабый пароль')\n",
        "  elif n == 2:\n",
        "    print('Очень слабый пароль')\n",
        "  else:\n",
        "    print('Ненадежный пароль')\n",
        "\n",
        "  p2 = input('Подтверждение')\n",
        "  if p1 == p2:\n",
        "    print('OK')\n",
        "  else:\n",
        "    print('Пароли не совпадают')\n",
        "  return\n"
      ],
      "metadata": {
        "id": "mKTxqSrPaqzu"
      },
      "execution_count": 20,
      "outputs": []
    }
  ]
}