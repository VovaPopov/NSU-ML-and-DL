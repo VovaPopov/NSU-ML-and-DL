{
  "nbformat": 4,
  "nbformat_minor": 0,
  "metadata": {
    "colab": {
      "provenance": [],
      "authorship_tag": "ABX9TyNxmPJ5ZPQP4kwzIFk/bqid",
      "include_colab_link": true
    },
    "kernelspec": {
      "name": "python3",
      "display_name": "Python 3"
    },
    "language_info": {
      "name": "python"
    }
  },
  "cells": [
    {
      "cell_type": "markdown",
      "metadata": {
        "id": "view-in-github",
        "colab_type": "text"
      },
      "source": [
        "<a href=\"https://colab.research.google.com/github/VovaPopov/NSU-ML-and-DL/blob/main/%D0%94%D0%BE%D0%BC%D0%B0%D1%88%D0%BD%D1%8F%D1%8F_%D1%80%D0%B0%D0%B1%D0%BE%D1%82%D0%B0_1.ipynb\" target=\"_parent\"><img src=\"https://colab.research.google.com/assets/colab-badge.svg\" alt=\"Open In Colab\"/></a>"
      ]
    },
    {
      "cell_type": "markdown",
      "source": [
        "Задание 1:"
      ],
      "metadata": {
        "id": "FMiqt6RVet8l"
      }
    },
    {
      "cell_type": "code",
      "source": [
        "x = float(input())\n",
        "if x < 15.5:\n",
        "    print('холодно')\n",
        "elif x > 28:\n",
        "    print('жарко')\n",
        "else:\n",
        "    print('нормально')"
      ],
      "metadata": {
        "id": "kkk3ML93ezgk"
      },
      "execution_count": null,
      "outputs": []
    },
    {
      "cell_type": "markdown",
      "source": [
        "Задание 2:"
      ],
      "metadata": {
        "id": "ipz6spfXefi-"
      }
    },
    {
      "cell_type": "code",
      "execution_count": null,
      "metadata": {
        "id": "FGP2Ckjvdsn7"
      },
      "outputs": [],
      "source": [
        "a = int(input())\n",
        "count = 0\n",
        "for i in range(a):\n",
        "    x = input()\n",
        "    if 'кот' in x or 'Кот' in x:\n",
        "        count = count + 1\n",
        "if count > 0:\n",
        "    print(\"МЯУ\")\n",
        "else:\n",
        "    print(\"НЕТ\")"
      ]
    },
    {
      "cell_type": "markdown",
      "source": [
        "Задание 3:"
      ],
      "metadata": {
        "id": "bSq5oFNQDWLW"
      }
    },
    {
      "cell_type": "code",
      "source": [
        "a = list()\n",
        "while 'стоп' not in a:\n",
        "  s = input()\n",
        "  a.append(s)\n",
        "\n",
        "del a[-1]\n",
        "a.sort(key=len)\n",
        "ami = a[0]\n",
        "count = 0\n",
        "for i in range(len(ami)):\n",
        "  if ami[i] in a[-1]:\n",
        "    count = count + 1\n",
        "if count == len(ami):\n",
        "  print('ДА')\n",
        "else:\n",
        "  print('НЕТ')\n"
      ],
      "metadata": {
        "id": "NCb670oFDZvd"
      },
      "execution_count": null,
      "outputs": []
    },
    {
      "cell_type": "markdown",
      "source": [
        "Задание 4:"
      ],
      "metadata": {
        "id": "Xq95bPI3XJ34"
      }
    },
    {
      "cell_type": "code",
      "source": [
        "n = int(input())\n",
        "buy = list()\n",
        "for i in range(n):\n",
        "  a = input()\n",
        "  buy.append(a)\n",
        "print(*buy, sep='\\n')\n"
      ],
      "metadata": {
        "id": "KKLMOhe7aU3Z"
      },
      "execution_count": null,
      "outputs": []
    },
    {
      "cell_type": "markdown",
      "source": [
        "Задание 5:"
      ],
      "metadata": {
        "id": "XWzLs2HzKFR4"
      }
    },
    {
      "cell_type": "code",
      "source": [
        "s = input()\n",
        "for i in range(len(s)):\n",
        "  print(s[i]*2, end='')"
      ],
      "metadata": {
        "id": "o7M6DlCDKIdg"
      },
      "execution_count": null,
      "outputs": []
    },
    {
      "cell_type": "markdown",
      "source": [
        "Задание 6:"
      ],
      "metadata": {
        "id": "_kOWnBYSjbAS"
      }
    },
    {
      "cell_type": "code",
      "source": [
        "def greet():\n",
        "  name = input('Имя?')\n",
        "  surname = input('Фамилия?')\n",
        "  return print('Здравствуйте,', name, surname)"
      ],
      "metadata": {
        "id": "-VN28aHDjdla"
      },
      "execution_count": null,
      "outputs": []
    },
    {
      "cell_type": "code",
      "source": [
        "greet()"
      ],
      "metadata": {
        "id": "5p3gYAKmmS7L"
      },
      "execution_count": null,
      "outputs": []
    },
    {
      "cell_type": "markdown",
      "source": [
        "Задание 7:"
      ],
      "metadata": {
        "id": "6pkLyu_WoQYc"
      }
    },
    {
      "cell_type": "code",
      "source": [
        "class LittleBell():\n",
        "  def sound(self):\n",
        "    print('bell')\n",
        "\n",
        "\n",
        "bell = LittleBell()\n",
        "bell.sound()"
      ],
      "metadata": {
        "id": "T9yalkqyoT4z"
      },
      "execution_count": null,
      "outputs": []
    },
    {
      "cell_type": "markdown",
      "source": [
        "*Остаточные знания:*\n",
        "Опыт: самые зачаточные знания в программировании на Python и на R.\n",
        "Не совсем понял как необходимо выполнить 7 задание, а так же как происходит создание и импорт класса."
      ],
      "metadata": {
        "id": "8AdaKFAicpoK"
      }
    }
  ]
}