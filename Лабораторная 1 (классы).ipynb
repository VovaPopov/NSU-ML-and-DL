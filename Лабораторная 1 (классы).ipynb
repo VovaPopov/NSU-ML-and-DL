{
 "cells": [
  {
   "cell_type": "markdown",
   "metadata": {},
   "source": [
    "Реализовать два класса Pupa и Lupa. И класс Accountant"
   ]
  },
  {
   "cell_type": "code",
   "execution_count": 1,
   "metadata": {},
   "outputs": [],
   "source": [
    "class Pupa():\n",
    "    def __init__(self):\n",
    "        self.salary = 0   # ЗП в начале месяца у Пупы\n",
    "\n",
    "    def do_work(self, spisok1, spisok2):   # работа Пупы со списками\n",
    "        summa = []\n",
    "        for i in range(len(spisok1)):\n",
    "            s_el = spisok1[i] + spisok2[i]\n",
    "            summa.append(s_el)\n",
    "        print('Pupa list', summa)\n",
    "\n",
    "    def take_salary(self, accrual):   # начисление ЗП для Пупы\n",
    "        self.salary = self.salary + (accrual * 3)   # 3 коэффициент ЗП для Лупы\n",
    "        print('Pupa salary', self.salary)\n",
    "\n",
    "class Lupa():\n",
    "    def __init__(self):\n",
    "        self.salary = 0   # ЗП в начале месяца у Лупы\n",
    "\n",
    "    def do_work(self, spisok1, spisok2):   # работа Лупы со списками\n",
    "        differ = []\n",
    "        for i in range(len(spisok1)):\n",
    "            d_el = spisok1[i] - spisok2[i]\n",
    "            differ.append(d_el)\n",
    "        print('Lupa list', differ)\n",
    "\n",
    "    def take_salary(self, accrual):   # начисление ЗП для Лупы \n",
    "        self.salary = self.salary + (accrual * 4)   # 4 коэффициент ЗП для Лупы\n",
    "        print('Lupa salary', self.salary)\n",
    "\n",
    "class Accountant():\n",
    "    def give_salary(self, worker):\n",
    "        worker.take_salary(5)   # плата за один экземпляр работы\n",
    "  "
   ]
  },
  {
   "cell_type": "code",
   "execution_count": 2,
   "metadata": {},
   "outputs": [
    {
     "name": "stdout",
     "output_type": "stream",
     "text": [
      "Pupa list [7, 9, 11, 13, 15]\n",
      "Lupa list [5, 5, 5, 5]\n",
      "Pupa salary 15\n",
      "Lupa salary 20\n"
     ]
    }
   ],
   "source": [
    "p = Pupa()\n",
    "l = Lupa()\n",
    "account = Accountant()\n",
    "\n",
    "p.do_work([1, 2, 3, 4, 5], [6, 7, 8, 9, 10])\n",
    "l.do_work([6, 7, 8, 9], [1, 2, 3, 4])\n",
    "account.give_salary(p)\n",
    "account.give_salary(l)"
   ]
  }
 ],
 "metadata": {
  "kernelspec": {
   "display_name": "Python 3",
   "language": "python",
   "name": "python3"
  },
  "language_info": {
   "codemirror_mode": {
    "name": "ipython",
    "version": 3
   },
   "file_extension": ".py",
   "mimetype": "text/x-python",
   "name": "python",
   "nbconvert_exporter": "python",
   "pygments_lexer": "ipython3",
   "version": "3.9.7"
  }
 },
 "nbformat": 4,
 "nbformat_minor": 2
}
