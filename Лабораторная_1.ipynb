{
  "nbformat": 4,
  "nbformat_minor": 0,
  "metadata": {
    "colab": {
      "provenance": [],
      "authorship_tag": "ABX9TyPm9SPlhgzhOEwaVYHgSg5+"
    },
    "kernelspec": {
      "name": "python3",
      "display_name": "Python 3"
    },
    "language_info": {
      "name": "python"
    }
  },
  "cells": [
    {
      "cell_type": "markdown",
      "source": [
        "Реализовать два класса Pupa и Lupa. И класс Accountant."
      ],
      "metadata": {
        "id": "KhQrtH_kkcdT"
      }
    },
    {
      "cell_type": "code",
      "source": [
        "class Pupa():\n",
        "    def __init__(self):\n",
        "        self.salary = 0   # ЗП в начале месяца у Пупы\n",
        "\n",
        "    def do_work(self, spisok1, spisok2):   # работа Пупы со списками\n",
        "        summa = []\n",
        "        for i in range(len(spisok1)):\n",
        "            s_el = spisok1[i] + spisok2[i]\n",
        "            summa.append(s_el)\n",
        "        print('Pupa list', summa)\n",
        "\n",
        "    def take_salary(self, accrual):   # начисление ЗП для Пупы\n",
        "        self.salary = self.salary + (accrual * 3)   # 3 коэффициент ЗП для Лупы\n",
        "        print('Pupa salary', self.salary)\n",
        "\n",
        "class Lupa():\n",
        "    def __init__(self):\n",
        "        self.salary = 0   # ЗП в начале месяца у Лупы\n",
        "\n",
        "    def do_work(self, spisok1, spisok2):   # работа Лупы со списками\n",
        "        differ = []\n",
        "        for i in range(len(spisok1)):\n",
        "            d_el = spisok1[i] - spisok2[i]\n",
        "            differ.append(d_el)\n",
        "        print('Lupa list', differ)\n",
        "\n",
        "    def take_salary(self, accrual):   # начисление ЗП для Лупы\n",
        "        self.salary = self.salary + (accrual * 4)   # 4 коэффициент ЗП для Лупы\n",
        "        print('Lupa salary', self.salary)\n",
        "\n",
        "class Accountant():\n",
        "    def give_salary(self, worker):\n",
        "        worker.take_salary(5)   # плата за один экземпляр работы\n"
      ],
      "metadata": {
        "id": "053otNSHQBI0"
      },
      "execution_count": null,
      "outputs": []
    },
    {
      "cell_type": "code",
      "source": [
        "p = Pupa()\n",
        "l = Lupa()\n",
        "account = Accountant()\n",
        "\n",
        "p.do_work([1, 2, 3, 4, 5], [6, 7, 8, 9, 10])\n",
        "l.do_work([6, 7, 8, 9], [1, 2, 3, 4])\n",
        "account.give_salary(p)\n",
        "account.give_salary(l)"
      ],
      "metadata": {
        "colab": {
          "base_uri": "https://localhost:8080/"
        },
        "id": "QiiX8xLgkvns",
        "outputId": "06e15995-67d0-4d2c-fe80-12c15c252dcf"
      },
      "execution_count": null,
      "outputs": [
        {
          "output_type": "stream",
          "name": "stdout",
          "text": [
            "Pupa list [7, 9, 11, 13, 15]\n",
            "Lupa list [5, 5, 5, 5]\n",
            "Pupa salary 15\n",
            "Lupa salary 20\n"
          ]
        }
      ]
    }
  ]
}