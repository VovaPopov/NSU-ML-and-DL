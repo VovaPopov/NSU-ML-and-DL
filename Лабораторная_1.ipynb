{
  "nbformat": 4,
  "nbformat_minor": 0,
  "metadata": {
    "colab": {
      "provenance": [],
      "authorship_tag": "ABX9TyN4874RQgPG4Yc/FaaGUeNG",
      "include_colab_link": true
    },
    "kernelspec": {
      "name": "python3",
      "display_name": "Python 3"
    },
    "language_info": {
      "name": "python"
    }
  },
  "cells": [
    {
      "cell_type": "markdown",
      "metadata": {
        "id": "view-in-github",
        "colab_type": "text"
      },
      "source": [
        "<a href=\"https://colab.research.google.com/github/VovaPopov/NSU-ML-and-DL/blob/main/%D0%9B%D0%B0%D0%B1%D0%BE%D1%80%D0%B0%D1%82%D0%BE%D1%80%D0%BD%D0%B0%D1%8F_1.ipynb\" target=\"_parent\"><img src=\"https://colab.research.google.com/assets/colab-badge.svg\" alt=\"Open In Colab\"/></a>"
      ]
    },
    {
      "cell_type": "markdown",
      "source": [
        "Реализовать два класса Pupa и Lupa. И класс Accountant."
      ],
      "metadata": {
        "id": "KhQrtH_kkcdT"
      }
    },
    {
      "cell_type": "code",
      "source": [
        "class Pupa():\n",
        "    def __init__(self):\n",
        "        self.salary = 0   # ЗП в начале месяца у Пупы\n",
        "\n",
        "    def do_work(self, spisok1, spisok2):   # работа Пупы со списками\n",
        "        summa = []\n",
        "        for i in range(len(spisok1)):\n",
        "            s_el = spisok1[i] + spisok2[i]\n",
        "            summa.append(s_el)\n",
        "        print('Pupa list', summa)\n",
        "\n",
        "    def take_salary(self, accrual):   # начисление ЗП для Пупы\n",
        "        self.salary = self.salary + (accrual * 3)   # 3 коэффициент ЗП для Лупы\n",
        "        print('Pupa salary', self.salary)\n",
        "\n",
        "class Lupa():\n",
        "    def __init__(self):\n",
        "        self.salary = 0   # ЗП в начале месяца у Лупы\n",
        "\n",
        "    def do_work(self, spisok1, spisok2):   # работа Лупы со списками\n",
        "        differ = []\n",
        "        for i in range(len(spisok1)):\n",
        "            d_el = spisok1[i] - spisok2[i]\n",
        "            differ.append(d_el)\n",
        "        print('Lupa list', differ)\n",
        "\n",
        "    def take_salary(self, accrual):   # начисление ЗП для Лупы\n",
        "        self.salary = self.salary + (accrual * 4)   # 4 коэффициент ЗП для Лупы\n",
        "        print('Lupa salary', self.salary)\n",
        "\n",
        "class Accountant():\n",
        "    def give_salary(self, worker):\n",
        "        worker.take_salary(5)   # плата за один экземпляр работы\n",
        "\n"
      ],
      "metadata": {
        "id": "053otNSHQBI0"
      },
      "execution_count": 6,
      "outputs": []
    },
    {
      "cell_type": "code",
      "source": [
        "p = Pupa()\n",
        "l = Lupa()\n",
        "account = Accountant()\n",
        "\n",
        "p.do_work([1, 2, 3, 4, 5], [6, 7, 8, 9, 10])\n",
        "l.do_work([6, 7, 8, 9], [1, 2, 3, 4])\n",
        "account.give_salary(p)\n",
        "account.give_salary(l)"
      ],
      "metadata": {
        "colab": {
          "base_uri": "https://localhost:8080/"
        },
        "id": "QiiX8xLgkvns",
        "outputId": "24681a66-4e32-4017-f007-0e8bdfe38807"
      },
      "execution_count": 7,
      "outputs": [
        {
          "output_type": "stream",
          "name": "stdout",
          "text": [
            "Pupa list [7, 9, 11, 13, 15]\n",
            "Lupa list [5, 5, 5, 5]\n",
            "Pupa salary 15\n",
            "Lupa salary 20\n"
          ]
        }
      ]
    }
  ]
}